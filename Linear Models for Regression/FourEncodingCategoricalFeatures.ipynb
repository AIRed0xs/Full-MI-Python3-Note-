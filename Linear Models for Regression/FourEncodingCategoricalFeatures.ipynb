{
 "cells": [
  {
   "cell_type": "code",
   "execution_count": 23,
   "metadata": {},
   "outputs": [
    {
     "name": "stderr",
     "output_type": "stream",
     "text": [
      "/tmp/ipykernel_13044/2588175007.py:37: FutureWarning: The default value of numeric_only in DataFrame.corr is deprecated. In a future version, it will default to False. Select only valid columns or specify the value of numeric_only to silence this warning.\n",
      "  correlation = train_data.corr()\n"
     ]
    }
   ],
   "source": [
    "import pandas as pd\n",
    "import numpy as np\n",
    "import matplotlib.pyplot as plt\n",
    "import seaborn as sns\n",
    "import urllib.request \n",
    "%matplotlib inline\n",
    "from sklearn.impute import *\n",
    "from matplotlib.pyplot import axis\n",
    "from sklearn.impute import *\n",
    "from sklearn.datasets import *\n",
    "from sklearn.linear_model import *\n",
    "from sklearn.model_selection import *\n",
    "\n",
    "X, y = fetch_california_housing(return_X_y=True)\n",
    "\n",
    "data_path = 'https://raw.githubusercontent.com/nyandwi/public_datasets/master/housing.csv'\n",
    "\n",
    "def download_read_data(path):\n",
    "    \n",
    "    \"\"\"\n",
    "     Function to retrieve data from the data paths\n",
    "     And to read the data as a pandas dataframe\n",
    "  \n",
    "    To return the dataframe\n",
    "    \"\"\" \n",
    "    \n",
    "      ## Only retrieve the directory of the data\n",
    "\n",
    "    data_path =  urllib.request.urlretrieve(path)[0]\n",
    "    data = pd.read_csv(path)\n",
    "    \n",
    "    return data\n",
    "\n",
    "cal_data = download_read_data(data_path)\n",
    "train_data, test_data = train_test_split(cal_data, test_size=0.1,random_state=20)\n",
    "cal_train = train_data.copy()\n",
    "correlation = train_data.corr()\n",
    "correlation['median_house_value']\n",
    "\n",
    "training_input_data = train_data.drop('median_house_value', axis=1)\n",
    "training_labels = train_data['median_house_value']\n"
   ]
  },
  {
   "cell_type": "code",
   "execution_count": 24,
   "metadata": {},
   "outputs": [
    {
     "data": {
      "text/plain": [
       "<1H OCEAN     8231\n",
       "INLAND        5896\n",
       "NEAR OCEAN    2384\n",
       "NEAR BAY      2061\n",
       "ISLAND           4\n",
       "Name: ocean_proximity, dtype: int64"
      ]
     },
     "execution_count": 24,
     "metadata": {},
     "output_type": "execute_result"
    }
   ],
   "source": [
    "#Categorical features are features which have categorical values. An example in our dataset is ocean_proximity that has the following values\n",
    "training_input_data['ocean_proximity'].value_counts()"
   ]
  },
  {
   "cell_type": "code",
   "execution_count": 25,
   "metadata": {},
   "outputs": [
    {
     "data": {
      "text/plain": [
       "<1H OCEAN     8231\n",
       "INLAND        5896\n",
       "NEAR OCEAN    2384\n",
       "NEAR BAY      2061\n",
       "ISLAND           4\n",
       "Name: ocean_proximity, dtype: int64"
      ]
     },
     "execution_count": 25,
     "metadata": {},
     "output_type": "execute_result"
    }
   ],
   "source": [
    "# we have 5 categories: <1H OCEAN, INLAND, NEAR OCEAN, NEAR BAY, ISLAND\n",
    "#We will be looking 3 techniques which are simple Python Mapping, Ordinary Encoding, and One Hot Encoding\n",
    "#mapping\n",
    "#Mapping is simple. We create a dictionary of categorical values and their corresponding numerics. And after that, we map it to the categorical feature.\n",
    "cat_feats = training_input_data['ocean_proximity']\n",
    "cat_feats.value_counts()"
   ]
  },
  {
   "cell_type": "code",
   "execution_count": 26,
   "metadata": {},
   "outputs": [
    {
     "data": {
      "text/plain": [
       "8101     2\n",
       "9757     0\n",
       "16837    2\n",
       "11742    1\n",
       "1871     1\n",
       "Name: ocean_proximity, dtype: int64"
      ]
     },
     "execution_count": 26,
     "metadata": {},
     "output_type": "execute_result"
    }
   ],
   "source": [
    "feat_map = {\n",
    "    '<1H OCEAN': 0,\n",
    "    'INLAND': 1,\n",
    "    'NEAR OCEAN': 2,\n",
    "    'NEAR BAY': 3, \n",
    "    'ISLAND': 4\n",
    "}\n",
    "\n",
    "cat_feats_encoded = cat_feats.map(feat_map)\n",
    "cat_feats_encoded.head()"
   ]
  },
  {
   "cell_type": "code",
   "execution_count": 29,
   "metadata": {},
   "outputs": [],
   "source": [
    "#all categories were mapped to their corresponding numerals. That is actually encoding. We are converting the categories (in text) into numbers, typically because ML models expect numeric inputs.\n",
    "#Handling Categorical Features with Sklearn\n",
    "#Sklearn has many preprocessing functions to handle categorical features\n",
    "#Ordinary Encoder is one of them. It does the same as what we did before with mapping. The only difference is implementation\n",
    "from sklearn.preprocessing import *\n",
    "\n",
    "def ordinary_encoder(input_data):\n",
    "  \n",
    "  label_encoder = LabelEncoder()\n",
    "  #encoder = OrdinalEncoder()\n",
    "  output = label_encoder.fit_transform(input_data)\n",
    "  return output\n",
    "\n"
   ]
  },
  {
   "cell_type": "code",
   "execution_count": 31,
   "metadata": {},
   "outputs": [
    {
     "data": {
      "text/plain": [
       "array([4, 0, 4, ..., 0, 0, 3])"
      ]
     },
     "execution_count": 31,
     "metadata": {},
     "output_type": "execute_result"
    }
   ],
   "source": [
    "cat_feats_enc = ordinary_encoder(cat_feats)\n",
    "cat_feats_enc"
   ]
  },
  {
   "cell_type": "code",
   "execution_count": null,
   "metadata": {},
   "outputs": [],
   "source": [
    "#One Hot Encoding\n",
    "#One hot encoding is most preferred when the categories are not in any order and that is exactly how our categorical feature is\n",
    "#This is what I mean by saying unordered categories: If you have 3 cities and encode them with numbers (1,2,3) respectively, a machine learning model may learn that city 1 is close to city 2 and to city 3\n",
    "#On the flip side, if you have the feature of ordered ranges like low, medium, and high, then numbers can be an effective way because you want to keep the sequence of these ranges.\n",
    "#In our case, the ocean proximity feature is not in any order. By using one hot, The categories will be converted into binary representation (1s or 0s), and the orginal categorical feature will be splitted into more features, equivalent to the number of categories.\n"
   ]
  }
 ],
 "metadata": {
  "kernelspec": {
   "display_name": "Python 3.9.2 64-bit",
   "language": "python",
   "name": "python3"
  },
  "language_info": {
   "codemirror_mode": {
    "name": "ipython",
    "version": 3
   },
   "file_extension": ".py",
   "mimetype": "text/x-python",
   "name": "python",
   "nbconvert_exporter": "python",
   "pygments_lexer": "ipython3",
   "version": "3.9.2"
  },
  "orig_nbformat": 4,
  "vscode": {
   "interpreter": {
    "hash": "916dbcbb3f70747c44a77c7bcd40155683ae19c65e1c03b4aa3499c5328201f1"
   }
  }
 },
 "nbformat": 4,
 "nbformat_minor": 2
}
