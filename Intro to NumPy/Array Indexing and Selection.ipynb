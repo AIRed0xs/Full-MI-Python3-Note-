{
 "cells": [
  {
   "cell_type": "code",
   "execution_count": 3,
   "id": "b17507b2",
   "metadata": {},
   "outputs": [],
   "source": [
    "import numpy as np\n",
    "## Indexing 2D array\n",
    "array_2d = np.array([[1,2,3],[4,5,6],[7,8,9]])"
   ]
  },
  {
   "cell_type": "code",
   "execution_count": 4,
   "id": "6c991c38",
   "metadata": {},
   "outputs": [
    {
     "data": {
      "text/plain": [
       "5"
      ]
     },
     "execution_count": 4,
     "metadata": {},
     "output_type": "execute_result"
    }
   ],
   "source": [
    "#Selecting individual element\n",
    "#array_2d[row][column]\n",
    "#let select 5 that is row 1 and column1 (we start from 0!!)\n",
    "array_2d[1][1]"
   ]
  },
  {
   "cell_type": "code",
   "execution_count": 5,
   "id": "1cc6c698",
   "metadata": {},
   "outputs": [
    {
     "data": {
      "text/plain": [
       "9"
      ]
     },
     "execution_count": 5,
     "metadata": {},
     "output_type": "execute_result"
    }
   ],
   "source": [
    "#Let select 9 that is row 2 column 2\n",
    "array_2d[2][2]"
   ]
  },
  {
   "cell_type": "code",
   "execution_count": 7,
   "id": "6d508671",
   "metadata": {},
   "outputs": [
    {
     "data": {
      "text/plain": [
       "array([7, 8, 9])"
      ]
     },
     "execution_count": 7,
     "metadata": {},
     "output_type": "execute_result"
    }
   ],
   "source": [
    "#Selecting whole row\n",
    "#array_2d[row]\n",
    "array_2d[2]"
   ]
  },
  {
   "cell_type": "code",
   "execution_count": 8,
   "id": "7328b6fd",
   "metadata": {},
   "outputs": [
    {
     "data": {
      "text/plain": [
       "array([[1, 2, 3],\n",
       "       [4, 5, 6]])"
      ]
     },
     "execution_count": 8,
     "metadata": {},
     "output_type": "execute_result"
    }
   ],
   "source": [
    "#Selecting group of elements in 2d array\n",
    "#array[row, columns].. you select rows and columns\n",
    "\n",
    "#let select the first two rows\n",
    "#rows :2 denotes that we are selecting all rows up to the second\n",
    "#columns: denotes that all columns are selected\n",
    "\n",
    "array_2d[:2,:]\n"
   ]
  },
  {
   "cell_type": "code",
   "execution_count": 9,
   "id": "8a2d7b4b",
   "metadata": {},
   "outputs": [
    {
     "data": {
      "text/plain": [
       "array([[1, 2],\n",
       "       [4, 5]])"
      ]
     },
     "execution_count": 9,
     "metadata": {},
     "output_type": "execute_result"
    }
   ],
   "source": [
    "#Selecting all first two rows and first two colums\n",
    "array_2d[:2,0:2]"
   ]
  },
  {
   "cell_type": "code",
   "execution_count": 10,
   "id": "b42e1251",
   "metadata": {},
   "outputs": [
    {
     "data": {
      "text/plain": [
       "array([[1, 2, 3],\n",
       "       [4, 5, 6],\n",
       "       [7, 8, 9]])"
      ]
     },
     "execution_count": 10,
     "metadata": {},
     "output_type": "execute_result"
    }
   ],
   "source": [
    "## This will return all rows, and so all columns and so same as orginal array\n",
    "array_2d[0:3,:]\n"
   ]
  },
  {
   "cell_type": "code",
   "execution_count": 11,
   "id": "9a4e5eda",
   "metadata": {},
   "outputs": [
    {
     "data": {
      "text/plain": [
       "array([7, 8, 9])"
      ]
     },
     "execution_count": 11,
     "metadata": {},
     "output_type": "execute_result"
    }
   ],
   "source": [
    "## return the second row\n",
    "\n",
    "array_2d[2,:]"
   ]
  },
  {
   "cell_type": "code",
   "execution_count": 12,
   "id": "fcc6349a",
   "metadata": {},
   "outputs": [
    {
     "data": {
      "text/plain": [
       "array([3, 6, 9])"
      ]
     },
     "execution_count": 12,
     "metadata": {},
     "output_type": "execute_result"
    }
   ],
   "source": [
    "## return the second column\n",
    "\n",
    "array_2d[:,2]"
   ]
  },
  {
   "cell_type": "code",
   "execution_count": 13,
   "id": "26dc2d0b",
   "metadata": {},
   "outputs": [
    {
     "data": {
      "text/plain": [
       "array([[2, 3],\n",
       "       [5, 6],\n",
       "       [8, 9]])"
      ]
     },
     "execution_count": 13,
     "metadata": {},
     "output_type": "execute_result"
    }
   ],
   "source": [
    "## return the last two columns\n",
    "\n",
    "array_2d[:,1:3]"
   ]
  },
  {
   "cell_type": "code",
   "execution_count": 14,
   "id": "4b856b5b",
   "metadata": {},
   "outputs": [
    {
     "data": {
      "text/plain": [
       "array([1, 4, 7])"
      ]
     },
     "execution_count": 14,
     "metadata": {},
     "output_type": "execute_result"
    }
   ],
   "source": [
    "## return the first column\n",
    "\n",
    "array_2d[:,0]"
   ]
  },
  {
   "cell_type": "code",
   "execution_count": 15,
   "id": "d71c3c5d",
   "metadata": {},
   "outputs": [
    {
     "data": {
      "text/plain": [
       "array([1, 2, 3])"
      ]
     },
     "execution_count": 15,
     "metadata": {},
     "output_type": "execute_result"
    }
   ],
   "source": [
    "## return the first row\n",
    "\n",
    "array_2d[0,:]"
   ]
  },
  {
   "cell_type": "code",
   "execution_count": 16,
   "id": "dc35ab0d",
   "metadata": {},
   "outputs": [
    {
     "data": {
      "text/plain": [
       "array([1, 2, 3])"
      ]
     },
     "execution_count": 16,
     "metadata": {},
     "output_type": "execute_result"
    }
   ],
   "source": [
    "## return the first row\n",
    "\n",
    "array_2d[0,:]"
   ]
  },
  {
   "cell_type": "code",
   "execution_count": 17,
   "id": "93ccb19b",
   "metadata": {},
   "outputs": [
    {
     "data": {
      "text/plain": [
       "array([1, 4, 7])"
      ]
     },
     "execution_count": 17,
     "metadata": {},
     "output_type": "execute_result"
    }
   ],
   "source": [
    "## return the first column\n",
    "\n",
    "array_2d[:,0]"
   ]
  }
 ],
 "metadata": {
  "kernelspec": {
   "display_name": "Python 3 (ipykernel)",
   "language": "python",
   "name": "python3"
  },
  "language_info": {
   "codemirror_mode": {
    "name": "ipython",
    "version": 3
   },
   "file_extension": ".py",
   "mimetype": "text/x-python",
   "name": "python",
   "nbconvert_exporter": "python",
   "pygments_lexer": "ipython3",
   "version": "3.9.2"
  }
 },
 "nbformat": 4,
 "nbformat_minor": 5
}
