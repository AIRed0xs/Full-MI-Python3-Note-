{
 "cells": [
  {
   "cell_type": "code",
   "execution_count": 1,
   "id": "64de1b12",
   "metadata": {},
   "outputs": [],
   "source": [
    "# Function to add two numbers and return a sum\n",
    "\n",
    "def add_nums(a,b):\n",
    "\n",
    "  \"\"\"\n",
    "  Function to add two numbers given as inputs\n",
    "  It will return a sum of these two numbers\n",
    "  \"\"\"\n",
    "\n",
    "  sum = a+b\n",
    "  \n",
    "  return sum\n"
   ]
  },
  {
   "cell_type": "code",
   "execution_count": 2,
   "id": "6fbde6d8",
   "metadata": {},
   "outputs": [
    {
     "data": {
      "text/plain": [
       "6"
      ]
     },
     "execution_count": 2,
     "metadata": {},
     "output_type": "execute_result"
    }
   ],
   "source": [
    "add_nums(2,4)"
   ]
  },
  {
   "cell_type": "code",
   "execution_count": 3,
   "id": "36a06dca",
   "metadata": {},
   "outputs": [
    {
     "data": {
      "text/plain": [
       "9"
      ]
     },
     "execution_count": 3,
     "metadata": {},
     "output_type": "execute_result"
    }
   ],
   "source": [
    "add_nums(4,5)"
   ]
  },
  {
   "cell_type": "code",
   "execution_count": 4,
   "id": "6d7e9a02",
   "metadata": {},
   "outputs": [
    {
     "name": "stdout",
     "output_type": "stream",
     "text": [
      "\n",
      "  Function to add two numbers given as inputs\n",
      "  It will return a sum of these two numbers\n",
      "  \n"
     ]
    }
   ],
   "source": [
    "# Displaying the doc string noted early\n",
    "\n",
    "print(add_nums.__doc__)"
   ]
  },
  {
   "cell_type": "code",
   "execution_count": 5,
   "id": "defe7a94",
   "metadata": {},
   "outputs": [],
   "source": [
    "def activity(name_1, name_2):\n",
    "\n",
    "  print(\"{} and {} are playing basketball!\".format(name_1, name_2))"
   ]
  },
  {
   "cell_type": "code",
   "execution_count": 6,
   "id": "bcf11856",
   "metadata": {},
   "outputs": [
    {
     "name": "stdout",
     "output_type": "stream",
     "text": [
      "Chris and Francois are playing basketball!\n"
     ]
    }
   ],
   "source": [
    "activity(\"Chris\", \"Francois\")"
   ]
  },
  {
   "cell_type": "code",
   "execution_count": 7,
   "id": "75b3c8c8",
   "metadata": {},
   "outputs": [
    {
     "name": "stdout",
     "output_type": "stream",
     "text": [
      "Kennedy and Kleber are playing basketball!\n"
     ]
    }
   ],
   "source": [
    "activity(\"Kennedy\", \"Kleber\")"
   ]
  }
 ],
 "metadata": {
  "kernelspec": {
   "display_name": "Python 3 (ipykernel)",
   "language": "python",
   "name": "python3"
  },
  "language_info": {
   "codemirror_mode": {
    "name": "ipython",
    "version": 3
   },
   "file_extension": ".py",
   "mimetype": "text/x-python",
   "name": "python",
   "nbconvert_exporter": "python",
   "pygments_lexer": "ipython3",
   "version": "3.9.2"
  }
 },
 "nbformat": 4,
 "nbformat_minor": 5
}
