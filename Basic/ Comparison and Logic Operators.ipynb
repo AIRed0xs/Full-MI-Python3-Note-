{
 "cells": [
  {
   "cell_type": "code",
   "execution_count": 1,
   "id": "4141c2c5",
   "metadata": {},
   "outputs": [
    {
     "data": {
      "text/plain": [
       "True"
      ]
     },
     "execution_count": 1,
     "metadata": {},
     "output_type": "execute_result"
    }
   ],
   "source": [
    "## Greater than \n",
    "100 > 1"
   ]
  },
  {
   "cell_type": "code",
   "execution_count": 2,
   "id": "f2a57e30",
   "metadata": {},
   "outputs": [
    {
     "data": {
      "text/plain": [
       "False"
      ]
     },
     "execution_count": 2,
     "metadata": {},
     "output_type": "execute_result"
    }
   ],
   "source": [
    "## Equal to\n",
    "\n",
    "100 == 1"
   ]
  },
  {
   "cell_type": "code",
   "execution_count": 3,
   "id": "ace8470e",
   "metadata": {},
   "outputs": [
    {
     "data": {
      "text/plain": [
       "False"
      ]
     },
     "execution_count": 3,
     "metadata": {},
     "output_type": "execute_result"
    }
   ],
   "source": [
    "## Less than\n",
    "\n",
    "100 < 1"
   ]
  },
  {
   "cell_type": "code",
   "execution_count": 4,
   "id": "ef2c1392",
   "metadata": {},
   "outputs": [
    {
     "data": {
      "text/plain": [
       "True"
      ]
     },
     "execution_count": 4,
     "metadata": {},
     "output_type": "execute_result"
    }
   ],
   "source": [
    "## Greater or equal to\n",
    "\n",
    "100 >= 1"
   ]
  },
  {
   "cell_type": "code",
   "execution_count": 5,
   "id": "fccdaf17",
   "metadata": {},
   "outputs": [
    {
     "data": {
      "text/plain": [
       "False"
      ]
     },
     "execution_count": 5,
     "metadata": {},
     "output_type": "execute_result"
    }
   ],
   "source": [
    "## Less or equal to\n",
    "\n",
    "100 <= 1"
   ]
  },
  {
   "cell_type": "code",
   "execution_count": 6,
   "id": "592ac6d6",
   "metadata": {},
   "outputs": [
    {
     "data": {
      "text/plain": [
       "False"
      ]
     },
     "execution_count": 6,
     "metadata": {},
     "output_type": "execute_result"
    }
   ],
   "source": [
    "'Intro to Python' == 'intro to python'"
   ]
  },
  {
   "cell_type": "code",
   "execution_count": 7,
   "id": "fea6ed84",
   "metadata": {},
   "outputs": [
    {
     "data": {
      "text/plain": [
       "True"
      ]
     },
     "execution_count": 7,
     "metadata": {},
     "output_type": "execute_result"
    }
   ],
   "source": [
    "'Intro to Python' == 'Intro to Python'"
   ]
  },
  {
   "cell_type": "code",
   "execution_count": 8,
   "id": "9cba9623",
   "metadata": {},
   "outputs": [
    {
     "data": {
      "text/plain": [
       "False"
      ]
     },
     "execution_count": 8,
     "metadata": {},
     "output_type": "execute_result"
    }
   ],
   "source": [
    "not 1 == 1"
   ]
  },
  {
   "cell_type": "code",
   "execution_count": 9,
   "id": "405debbc",
   "metadata": {},
   "outputs": [
    {
     "data": {
      "text/plain": [
       "True"
      ]
     },
     "execution_count": 9,
     "metadata": {},
     "output_type": "execute_result"
    }
   ],
   "source": [
    "100 == 100 and 100 == 100"
   ]
  },
  {
   "cell_type": "code",
   "execution_count": 10,
   "id": "3b4c7f25",
   "metadata": {},
   "outputs": [
    {
     "data": {
      "text/plain": [
       "False"
      ]
     },
     "execution_count": 10,
     "metadata": {},
     "output_type": "execute_result"
    }
   ],
   "source": [
    "100 <= 10 and 100 == 100"
   ]
  },
  {
   "cell_type": "code",
   "execution_count": 11,
   "id": "e3afa40e",
   "metadata": {},
   "outputs": [
    {
     "data": {
      "text/plain": [
       "True"
      ]
     },
     "execution_count": 11,
     "metadata": {},
     "output_type": "execute_result"
    }
   ],
   "source": [
    "100 == 10 or 100 == 100"
   ]
  },
  {
   "cell_type": "code",
   "execution_count": 12,
   "id": "25dd1d05",
   "metadata": {},
   "outputs": [
    {
     "data": {
      "text/plain": [
       "False"
      ]
     },
     "execution_count": 12,
     "metadata": {},
     "output_type": "execute_result"
    }
   ],
   "source": [
    "100 == 10 or 100 == 10"
   ]
  },
  {
   "cell_type": "code",
   "execution_count": 13,
   "id": "3482e145",
   "metadata": {},
   "outputs": [
    {
     "data": {
      "text/plain": [
       "True"
      ]
     },
     "execution_count": 13,
     "metadata": {},
     "output_type": "execute_result"
    }
   ],
   "source": [
    "not 1 == 2"
   ]
  },
  {
   "cell_type": "code",
   "execution_count": null,
   "id": "6f6277c8",
   "metadata": {},
   "outputs": [],
   "source": []
  }
 ],
 "metadata": {
  "kernelspec": {
   "display_name": "Python 3 (ipykernel)",
   "language": "python",
   "name": "python3"
  },
  "language_info": {
   "codemirror_mode": {
    "name": "ipython",
    "version": 3
   },
   "file_extension": ".py",
   "mimetype": "text/x-python",
   "name": "python",
   "nbconvert_exporter": "python",
   "pygments_lexer": "ipython3",
   "version": "3.9.2"
  }
 },
 "nbformat": 4,
 "nbformat_minor": 5
}
