{
 "cells": [
  {
   "cell_type": "code",
   "execution_count": 1,
   "id": "711853cb",
   "metadata": {},
   "outputs": [
    {
     "data": {
      "text/plain": [
       "'OneHundred'"
      ]
     },
     "execution_count": 1,
     "metadata": {},
     "output_type": "execute_result"
    }
   ],
   "source": [
    "#We can manipulate strings in many ways. A simple example is to concat the strings\n",
    "\n",
    "str_var = 'One'\n",
    "str_var2 = 'Hundred'\n",
    "str_var + str_var2"
   ]
  },
  {
   "cell_type": "code",
   "execution_count": 2,
   "id": "87a5a151",
   "metadata": {},
   "outputs": [
    {
     "data": {
      "text/plain": [
       "'One and Hundred.'"
      ]
     },
     "execution_count": 2,
     "metadata": {},
     "output_type": "execute_result"
    }
   ],
   "source": [
    "str_var + ' ' + 'and' + ' '+ str_var2 + '.'"
   ]
  },
  {
   "cell_type": "code",
   "execution_count": 3,
   "id": "8ac109eb",
   "metadata": {},
   "outputs": [
    {
     "name": "stdout",
     "output_type": "stream",
     "text": [
      " This is a string\n"
     ]
    }
   ],
   "source": [
    "# We can use print() to display a string\n",
    "\n",
    "print(\" This is a string\")"
   ]
  },
  {
   "cell_type": "code",
   "execution_count": 4,
   "id": "e35fb85d",
   "metadata": {},
   "outputs": [
    {
     "data": {
      "text/plain": [
       "False"
      ]
     },
     "execution_count": 4,
     "metadata": {},
     "output_type": "execute_result"
    }
   ],
   "source": [
    "# We can also compare strings to check whether they are similar. \n",
    "# If they are similar, case by case, comparison operator returns true. Else false\n",
    "\n",
    "\"A string\" == \"a string\" #boolean"
   ]
  },
  {
   "cell_type": "code",
   "execution_count": 5,
   "id": "e60db9d2",
   "metadata": {},
   "outputs": [
    {
     "data": {
      "text/plain": [
       "True"
      ]
     },
     "execution_count": 5,
     "metadata": {},
     "output_type": "execute_result"
    }
   ],
   "source": [
    "\"A string\" == \"A string\"\n"
   ]
  },
  {
   "cell_type": "code",
   "execution_count": 10,
   "id": "45aaa2cd",
   "metadata": {},
   "outputs": [
    {
     "data": {
      "text/plain": [
       "'This is a string'"
      ]
     },
     "execution_count": 10,
     "metadata": {},
     "output_type": "execute_result"
    }
   ],
   "source": [
    "#Strings Methods\n",
    "\n",
    "sentence = 'This IS A String'\n",
    "\n",
    "# Case capitalization \n",
    "# It return the string with first letter capitalized and the rest being lower cases. \n",
    "\n",
    "sentence.capitalize()"
   ]
  },
  {
   "cell_type": "code",
   "execution_count": 11,
   "id": "848db251",
   "metadata": {},
   "outputs": [
    {
     "data": {
      "text/plain": [
       "'This Is A String To Be Titled'"
      ]
     },
     "execution_count": 11,
     "metadata": {},
     "output_type": "execute_result"
    }
   ],
   "source": [
    "# Given a string, convert it into title (each word is capitalized)\n",
    "\n",
    "sentence_2 = 'this is a string to be titled'\n",
    "sentence_2.title()"
   ]
  },
  {
   "cell_type": "code",
   "execution_count": 12,
   "id": "9ebef248",
   "metadata": {},
   "outputs": [
    {
     "data": {
      "text/plain": [
       "'THIS IS A STRING'"
      ]
     },
     "execution_count": 12,
     "metadata": {},
     "output_type": "execute_result"
    }
   ],
   "source": [
    "# Converting the string to upper case\n",
    "\n",
    "sentence.upper()"
   ]
  },
  {
   "cell_type": "code",
   "execution_count": 13,
   "id": "d8613b11",
   "metadata": {},
   "outputs": [
    {
     "data": {
      "text/plain": [
       "'this is a string'"
      ]
     },
     "execution_count": 13,
     "metadata": {},
     "output_type": "execute_result"
    }
   ],
   "source": [
    "# Converting the string to upper case\n",
    "\n",
    "sentence.lower()"
   ]
  },
  {
   "cell_type": "code",
   "execution_count": 14,
   "id": "a20f4105",
   "metadata": {},
   "outputs": [
    {
     "data": {
      "text/plain": [
       "['This', 'IS', 'A', 'String']"
      ]
     },
     "execution_count": 14,
     "metadata": {},
     "output_type": "execute_result"
    }
   ],
   "source": [
    "# Splitting the string\n",
    "\n",
    "sentence.split()"
   ]
  },
  {
   "cell_type": "code",
   "execution_count": 1,
   "id": "03268ee8",
   "metadata": {},
   "outputs": [
    {
     "data": {
      "text/plain": [
       "'This project was awesome'"
      ]
     },
     "execution_count": 1,
     "metadata": {},
     "output_type": "execute_result"
    }
   ],
   "source": [
    "#Replace method\n",
    "#given the string \"This movie was awesome\", replace the world movie with project\n",
    "\n",
    "stri = \"This movie was awesome\"\n",
    "stri.replace('movie', 'project')"
   ]
  },
  {
   "cell_type": "code",
   "execution_count": 2,
   "id": "dc334568",
   "metadata": {},
   "outputs": [
    {
     "data": {
      "text/plain": [
       "'The%20future%20is%20great'"
      ]
     },
     "execution_count": 2,
     "metadata": {},
     "output_type": "execute_result"
    }
   ],
   "source": [
    "# In the following string, replace all spaces with `%20'\n",
    "\n",
    "stri_2 = \"The future is great\"\n",
    "stri_2.replace(' ', '%20')"
   ]
  },
  {
   "cell_type": "code",
   "execution_count": null,
   "id": "ecadc9a9",
   "metadata": {},
   "outputs": [],
   "source": []
  }
 ],
 "metadata": {
  "kernelspec": {
   "display_name": "Python 3 (ipykernel)",
   "language": "python",
   "name": "python3"
  },
  "language_info": {
   "codemirror_mode": {
    "name": "ipython",
    "version": 3
   },
   "file_extension": ".py",
   "mimetype": "text/x-python",
   "name": "python",
   "nbconvert_exporter": "python",
   "pygments_lexer": "ipython3",
   "version": "3.9.2"
  }
 },
 "nbformat": 4,
 "nbformat_minor": 5
}
