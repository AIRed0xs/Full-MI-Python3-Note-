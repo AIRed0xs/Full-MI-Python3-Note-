{
 "cells": [
  {
   "cell_type": "code",
   "execution_count": 1,
   "id": "086c773d",
   "metadata": {},
   "outputs": [
    {
     "name": "stdout",
     "output_type": "stream",
     "text": [
      "[2, 4, 6, 8, 10, 12, 14, 16, 18]\n"
     ]
    }
   ],
   "source": [
    "#List Comprehension\n",
    "# Given a list of numbers, can you make a new list of even numbers from the list nums?\n",
    "# Even numbers are numbers divisible by 2, and they give the remainder of 0\n",
    "\n",
    "nums = range(1,20)\n",
    "even_nums = []\n",
    "\n",
    "\n",
    "# A traditional way to do it is:\n",
    "\n",
    "for num in nums: \n",
    "  if num % 2 == 0: \n",
    "    even_nums.append(num)\n",
    "\n",
    "print(even_nums)"
   ]
  },
  {
   "cell_type": "code",
   "execution_count": 2,
   "id": "ae7e5250",
   "metadata": {},
   "outputs": [
    {
     "name": "stdout",
     "output_type": "stream",
     "text": [
      "[2, 4, 6, 8, 10, 12, 14, 16, 18]\n"
     ]
    }
   ],
   "source": [
    "#A more concise and easy way to do that is to use list comprehension.\n",
    "even_nums = [num for num in nums if num % 2 == 0]\n",
    "print(even_nums)"
   ]
  },
  {
   "cell_type": "code",
   "execution_count": 4,
   "id": "b207b479",
   "metadata": {},
   "outputs": [
    {
     "name": "stdout",
     "output_type": "stream",
     "text": [
      "['Tuesday', 'Thursday']\n"
     ]
    }
   ],
   "source": [
    "#You can see it's pretty simple. And more readable than the former. Let's take another example.\n",
    "days = ['Monday', 'Tuesday', 'Wednesday', 'Thursday', 'Friday', 'Saturday']\n",
    "day_T = []\n",
    "\n",
    "# Make a list of days that start with `T`\n",
    "\n",
    "for day in days: \n",
    "  if day[0] == 'T':\n",
    "    day_T.append(day)\n",
    "\n",
    "print(day_T)"
   ]
  },
  {
   "cell_type": "code",
   "execution_count": 5,
   "id": "473d499a",
   "metadata": {},
   "outputs": [
    {
     "name": "stdout",
     "output_type": "stream",
     "text": [
      "['Tuesday', 'Thursday']\n"
     ]
    }
   ],
   "source": [
    "day_T = [day for day in days if day[0] == 'T']\n",
    "print(day_T)"
   ]
  },
  {
   "cell_type": "code",
   "execution_count": 4,
   "id": "76f1e7fa",
   "metadata": {},
   "outputs": [
    {
     "data": {
      "text/plain": [
       "[(0, 'Spring'), (1, 'Summer'), (2, 'Fall'), (3, 'Winter')]"
      ]
     },
     "execution_count": 4,
     "metadata": {},
     "output_type": "execute_result"
    }
   ],
   "source": [
    "#Enumerate Function\n",
    "seasons = ['Spring', 'Summer', 'Fall', 'Winter']\n",
    "\n",
    "list(enumerate(seasons))"
   ]
  },
  {
   "cell_type": "code",
   "execution_count": 5,
   "id": "1105b994",
   "metadata": {},
   "outputs": [
    {
     "data": {
      "text/plain": [
       "[(1, 'Spring'), (2, 'Summer'), (3, 'Fall'), (4, 'Winter')]"
      ]
     },
     "execution_count": 5,
     "metadata": {},
     "output_type": "execute_result"
    }
   ],
   "source": [
    "list(enumerate(seasons, start=1))"
   ]
  },
  {
   "cell_type": "code",
   "execution_count": 6,
   "id": "de726e08",
   "metadata": {},
   "outputs": [
    {
     "name": "stdout",
     "output_type": "stream",
     "text": [
      "0 - Rock\n",
      "1 - Paper\n",
      "2 - Scissor\n"
     ]
    }
   ],
   "source": [
    "class_names = ['Rock', 'Paper', 'Scissor']\n",
    "\n",
    "for index, class_name in enumerate(class_names, start=0):\n",
    "  print(index,'-',class_name)"
   ]
  },
  {
   "cell_type": "code",
   "execution_count": 7,
   "id": "ce19f5cb",
   "metadata": {},
   "outputs": [
    {
     "data": {
      "text/plain": [
       "<zip at 0x7f9f502d2a00>"
      ]
     },
     "execution_count": 7,
     "metadata": {},
     "output_type": "execute_result"
    }
   ],
   "source": [
    "#Zip FUncation\n",
    "name = ['Jessy', 'Joe', 'Jeannette']\n",
    "role = ['ML Engineer', 'Web Developer', 'Data Engineer']\n",
    "\n",
    "zipped_name_role = zip(name, role)\n",
    "zipped_name_role\n"
   ]
  },
  {
   "cell_type": "code",
   "execution_count": null,
   "id": "96c15fc8",
   "metadata": {},
   "outputs": [],
   "source": [
    "list(zipped_name_role)"
   ]
  }
 ],
 "metadata": {
  "kernelspec": {
   "display_name": "Python 3 (ipykernel)",
   "language": "python",
   "name": "python3"
  },
  "language_info": {
   "codemirror_mode": {
    "name": "ipython",
    "version": 3
   },
   "file_extension": ".py",
   "mimetype": "text/x-python",
   "name": "python",
   "nbconvert_exporter": "python",
   "pygments_lexer": "ipython3",
   "version": "3.9.2"
  }
 },
 "nbformat": 4,
 "nbformat_minor": 5
}
