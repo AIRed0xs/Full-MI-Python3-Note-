{
 "cells": [
  {
   "cell_type": "code",
   "execution_count": 1,
   "id": "e92015d9",
   "metadata": {},
   "outputs": [
    {
     "data": {
      "text/plain": [
       "4"
      ]
     },
     "execution_count": 1,
     "metadata": {},
     "output_type": "execute_result"
    }
   ],
   "source": [
    "## Sum of two numbers \n",
    "\n",
    "def add_nums(a,b):\n",
    "\n",
    "  sum = a+b\n",
    "  \n",
    "  return sum\n",
    "\n",
    "add_nums(1,3)\n"
   ]
  },
  {
   "cell_type": "code",
   "execution_count": 2,
   "id": "c0c1c10b",
   "metadata": {},
   "outputs": [
    {
     "data": {
      "text/plain": [
       "4"
      ]
     },
     "execution_count": 2,
     "metadata": {},
     "output_type": "execute_result"
    }
   ],
   "source": [
    "#We can use lambda to make the same function in just one line of code! Let's do it!!\n",
    "sum_of_two_nums = lambda c,d: c + d\n",
    "\n",
    "sum_of_two_nums(1,3)"
   ]
  }
 ],
 "metadata": {
  "kernelspec": {
   "display_name": "Python 3 (ipykernel)",
   "language": "python",
   "name": "python3"
  },
  "language_info": {
   "codemirror_mode": {
    "name": "ipython",
    "version": 3
   },
   "file_extension": ".py",
   "mimetype": "text/x-python",
   "name": "python",
   "nbconvert_exporter": "python",
   "pygments_lexer": "ipython3",
   "version": "3.9.2"
  }
 },
 "nbformat": 4,
 "nbformat_minor": 5
}
