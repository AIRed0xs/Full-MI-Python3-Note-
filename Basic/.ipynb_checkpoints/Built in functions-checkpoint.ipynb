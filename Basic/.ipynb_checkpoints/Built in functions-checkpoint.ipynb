{
 "cells": [
  {
   "cell_type": "code",
   "execution_count": 1,
   "id": "cd4b16f4",
   "metadata": {},
   "outputs": [
    {
     "data": {
      "text/plain": [
       "15"
      ]
     },
     "execution_count": 1,
     "metadata": {},
     "output_type": "execute_result"
    }
   ],
   "source": [
    "# using len() to count the length of the string\n",
    "\n",
    "message = 'Do not give up!'\n",
    "len(message)"
   ]
  },
  {
   "cell_type": "code",
   "execution_count": 2,
   "id": "e4e87c04",
   "metadata": {},
   "outputs": [
    {
     "data": {
      "text/plain": [
       "4"
      ]
     },
     "execution_count": 2,
     "metadata": {},
     "output_type": "execute_result"
    }
   ],
   "source": [
    "odd_numbers = [1,3,5,7]\n",
    "len(odd_numbers)"
   ]
  },
  {
   "cell_type": "code",
   "execution_count": 3,
   "id": "6c4c1125",
   "metadata": {},
   "outputs": [
    {
     "data": {
      "text/plain": [
       "7"
      ]
     },
     "execution_count": 3,
     "metadata": {},
     "output_type": "execute_result"
    }
   ],
   "source": [
    "# Using max() to find the maximum number in a list\n",
    "\n",
    "odd_numbers = [1,3,5,7]\n",
    "max(odd_numbers)"
   ]
  },
  {
   "cell_type": "code",
   "execution_count": 4,
   "id": "087a1761",
   "metadata": {},
   "outputs": [
    {
     "data": {
      "text/plain": [
       "1"
      ]
     },
     "execution_count": 4,
     "metadata": {},
     "output_type": "execute_result"
    }
   ],
   "source": [
    "# Using min() to find the minimum number in a list\n",
    "\n",
    "min(odd_numbers)"
   ]
  },
  {
   "cell_type": "code",
   "execution_count": 5,
   "id": "daaeba90",
   "metadata": {},
   "outputs": [
    {
     "data": {
      "text/plain": [
       "[1, 3, 5, 7, 9, 11, 13, 15]"
      ]
     },
     "execution_count": 5,
     "metadata": {},
     "output_type": "execute_result"
    }
   ],
   "source": [
    "# Sorting the list with sorted()\n",
    "\n",
    "odd_numbers = [9,7,3,5,11,13,15,1]\n",
    "\n",
    "sorted(odd_numbers)"
   ]
  },
  {
   "cell_type": "code",
   "execution_count": 6,
   "id": "0dc2ae79",
   "metadata": {},
   "outputs": [],
   "source": [
    "#Map function\n",
    "def cubic(number):\n",
    "  return number ** 3"
   ]
  },
  {
   "cell_type": "code",
   "execution_count": 7,
   "id": "d5bb48ff",
   "metadata": {},
   "outputs": [],
   "source": [
    "num_list = [0,1,2,3,4]"
   ]
  },
  {
   "cell_type": "code",
   "execution_count": 8,
   "id": "f7f1efdc",
   "metadata": {},
   "outputs": [
    {
     "data": {
      "text/plain": [
       "[0, 1, 8, 27, 64]"
      ]
     },
     "execution_count": 8,
     "metadata": {},
     "output_type": "execute_result"
    }
   ],
   "source": [
    "# Applying `map` to the num_list to just return the list where each element is cubed...(xxx3)\n",
    "\n",
    "list(map(cubic, num_list))"
   ]
  },
  {
   "cell_type": "code",
   "execution_count": 9,
   "id": "274da2e6",
   "metadata": {},
   "outputs": [],
   "source": [
    "#Filter function\n",
    "def odd_check(number):\n",
    "  \n",
    "  return number % 2 != 0 \n",
    "\n",
    "# != is not equal to operation"
   ]
  },
  {
   "cell_type": "code",
   "execution_count": 10,
   "id": "ddb6cce8",
   "metadata": {},
   "outputs": [
    {
     "data": {
      "text/plain": [
       "[1, 5, 7, 9, 11]"
      ]
     },
     "execution_count": 10,
     "metadata": {},
     "output_type": "execute_result"
    }
   ],
   "source": [
    "num_list = [1,2,4,5,6,7,8,9,10,11]\n",
    "\n",
    "list(filter(odd_check, num_list))\n"
   ]
  }
 ],
 "metadata": {
  "kernelspec": {
   "display_name": "Python 3 (ipykernel)",
   "language": "python",
   "name": "python3"
  },
  "language_info": {
   "codemirror_mode": {
    "name": "ipython",
    "version": 3
   },
   "file_extension": ".py",
   "mimetype": "text/x-python",
   "name": "python",
   "nbconvert_exporter": "python",
   "pygments_lexer": "ipython3",
   "version": "3.9.2"
  }
 },
 "nbformat": 4,
 "nbformat_minor": 5
}
