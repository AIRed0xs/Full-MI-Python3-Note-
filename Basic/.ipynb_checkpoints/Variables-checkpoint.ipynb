{
 "cells": [
  {
   "cell_type": "code",
   "execution_count": null,
   "id": "4e1aded2",
   "metadata": {},
   "outputs": [],
   "source": [
    "# We use # to add comment, it won’t run or affect the code\n",
    "# You use = to assign a value to the name of the variable. \n",
    "# Each code starts on the new line. No semicolon or {}\n",
    "\n",
    "int_var = 1\n",
    "str_var = 'Hundred'"
   ]
  }
 ],
 "metadata": {
  "kernelspec": {
   "display_name": "Python 3 (ipykernel)",
   "language": "python",
   "name": "python3"
  },
  "language_info": {
   "codemirror_mode": {
    "name": "ipython",
    "version": 3
   },
   "file_extension": ".py",
   "mimetype": "text/x-python",
   "name": "python",
   "nbconvert_exporter": "python",
   "pygments_lexer": "ipython3",
   "version": "3.9.2"
  }
 },
 "nbformat": 4,
 "nbformat_minor": 5
}
