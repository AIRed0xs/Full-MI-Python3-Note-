{
 "cells": [
  {
   "cell_type": "code",
   "execution_count": 2,
   "id": "d9a5c880",
   "metadata": {},
   "outputs": [
    {
     "data": {
      "text/plain": [
       "float"
      ]
     },
     "execution_count": 2,
     "metadata": {},
     "output_type": "execute_result"
    }
   ],
   "source": [
    "int_var = 10\n",
    "float_var = 12.8\n",
    "\n",
    "type(float_var)"
   ]
  },
  {
   "cell_type": "code",
   "execution_count": 3,
   "id": "ceb84279",
   "metadata": {},
   "outputs": [
    {
     "data": {
      "text/plain": [
       "101"
      ]
     },
     "execution_count": 3,
     "metadata": {},
     "output_type": "execute_result"
    }
   ],
   "source": [
    "# Numeric Operations \n",
    "\n",
    "# Addition\n",
    "1 + 100"
   ]
  },
  {
   "cell_type": "code",
   "execution_count": 4,
   "id": "bb176f11",
   "metadata": {},
   "outputs": [
    {
     "data": {
      "text/plain": [
       "100"
      ]
     },
     "execution_count": 4,
     "metadata": {},
     "output_type": "execute_result"
    }
   ],
   "source": [
    "# Multiplication\n",
    "\n",
    "1 * 100"
   ]
  },
  {
   "cell_type": "code",
   "execution_count": 5,
   "id": "96aa780f",
   "metadata": {},
   "outputs": [
    {
     "data": {
      "text/plain": [
       "0.01"
      ]
     },
     "execution_count": 5,
     "metadata": {},
     "output_type": "execute_result"
    }
   ],
   "source": [
    "# Division\n",
    "\n",
    "1 / 100"
   ]
  },
  {
   "cell_type": "code",
   "execution_count": 6,
   "id": "8a1561be",
   "metadata": {},
   "outputs": [
    {
     "data": {
      "text/plain": [
       "3"
      ]
     },
     "execution_count": 6,
     "metadata": {},
     "output_type": "execute_result"
    }
   ],
   "source": [
    "# Floor division\n",
    "\n",
    "7 // 2"
   ]
  },
  {
   "cell_type": "code",
   "execution_count": 7,
   "id": "12791336",
   "metadata": {},
   "outputs": [
    {
     "data": {
      "text/plain": [
       "0"
      ]
     },
     "execution_count": 7,
     "metadata": {},
     "output_type": "execute_result"
    }
   ],
   "source": [
    "# Modular (%)\n",
    "# This is the remainder or a value remaining after dividing two numbers\n",
    "# 100 / 1 = 100, remainder is 0\n",
    "\n",
    "100 % 1"
   ]
  },
  {
   "cell_type": "code",
   "execution_count": 8,
   "id": "c2465b19",
   "metadata": {},
   "outputs": [
    {
     "data": {
      "text/plain": [
       "1"
      ]
     },
     "execution_count": 8,
     "metadata": {},
     "output_type": "execute_result"
    }
   ],
   "source": [
    "1 % 100"
   ]
  },
  {
   "cell_type": "code",
   "execution_count": 9,
   "id": "06d50e7b",
   "metadata": {},
   "outputs": [
    {
     "data": {
      "text/plain": [
       "0"
      ]
     },
     "execution_count": 9,
     "metadata": {},
     "output_type": "execute_result"
    }
   ],
   "source": [
    "10 % 2"
   ]
  },
  {
   "cell_type": "code",
   "execution_count": 10,
   "id": "78b2f008",
   "metadata": {},
   "outputs": [
    {
     "data": {
      "text/plain": [
       "1"
      ]
     },
     "execution_count": 10,
     "metadata": {},
     "output_type": "execute_result"
    }
   ],
   "source": [
    "# Powers\n",
    "# 1 power any number is 1 always\n",
    "\n",
    "1 ** 100"
   ]
  },
  {
   "cell_type": "code",
   "execution_count": 11,
   "id": "a2254100",
   "metadata": {},
   "outputs": [
    {
     "data": {
      "text/plain": [
       "4"
      ]
     },
     "execution_count": 11,
     "metadata": {},
     "output_type": "execute_result"
    }
   ],
   "source": [
    "2 ** 2"
   ]
  },
  {
   "cell_type": "code",
   "execution_count": 12,
   "id": "c229acb9",
   "metadata": {},
   "outputs": [
    {
     "name": "stdout",
     "output_type": "stream",
     "text": [
      "101\n"
     ]
    }
   ],
   "source": [
    "# We use print() to display the results of the operations or a variable\n",
    "\n",
    "print(1 + 100)"
   ]
  },
  {
   "cell_type": "code",
   "execution_count": null,
   "id": "b0b84993",
   "metadata": {},
   "outputs": [],
   "source": []
  }
 ],
 "metadata": {
  "kernelspec": {
   "display_name": "Python 3 (ipykernel)",
   "language": "python",
   "name": "python3"
  },
  "language_info": {
   "codemirror_mode": {
    "name": "ipython",
    "version": 3
   },
   "file_extension": ".py",
   "mimetype": "text/x-python",
   "name": "python",
   "nbconvert_exporter": "python",
   "pygments_lexer": "ipython3",
   "version": "3.9.2"
  }
 },
 "nbformat": 4,
 "nbformat_minor": 5
}
