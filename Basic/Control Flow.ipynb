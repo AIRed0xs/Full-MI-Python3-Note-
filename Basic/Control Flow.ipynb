{
 "cells": [
  {
   "cell_type": "code",
   "execution_count": 1,
   "id": "8e1698cd",
   "metadata": {},
   "outputs": [],
   "source": [
    "#Control Flow\n",
    "if 100 < 2:\n",
    "\n",
    "  print(\"As expected, no thing will be displayed\")"
   ]
  },
  {
   "cell_type": "code",
   "execution_count": 2,
   "id": "aa94ef46",
   "metadata": {},
   "outputs": [
    {
     "name": "stdout",
     "output_type": "stream",
     "text": [
      "As expected, no thing will be displayed\n"
     ]
    }
   ],
   "source": [
    "if 100 > 2:\n",
    "\n",
    "  print(\"As expected, no thing will be displayed\")"
   ]
  },
  {
   "cell_type": "code",
   "execution_count": 3,
   "id": "06cdd0e6",
   "metadata": {},
   "outputs": [
    {
     "name": "stdout",
     "output_type": "stream",
     "text": [
      "Printed\n"
     ]
    }
   ],
   "source": [
    "if 100 < 2:\n",
    "\n",
    "  print(\"As expected, no thing will be displayed\")\n",
    "\n",
    "else:\n",
    "  print('Printed')"
   ]
  },
  {
   "cell_type": "code",
   "execution_count": 4,
   "id": "7f1ef8bb",
   "metadata": {},
   "outputs": [
    {
     "name": "stdout",
     "output_type": "stream",
     "text": [
      "John is older than Luck\n"
     ]
    }
   ],
   "source": [
    "# Let's assign a number to a variable name 'jean_age' and 'yannick_age'\n",
    "\n",
    "john_age = 30\n",
    "luck_age = 20\n",
    "\n",
    "if john_age > luck_age:\n",
    "  print(\"John is older than Luck\")\n",
    "\n",
    "else:\n",
    "  print(\" John is younger than Luck\")"
   ]
  },
  {
   "cell_type": "code",
   "execution_count": 5,
   "id": "acbf9282",
   "metadata": {},
   "outputs": [
    {
     "name": "stdout",
     "output_type": "stream",
     "text": [
      "John's age is same as Yan\n"
     ]
    }
   ],
   "source": [
    "# Let's use multiple conditions \n",
    "\n",
    "john_age = 30\n",
    "luck_age = 20\n",
    "yan_age = 30\n",
    "\n",
    "if john_age < luck_age:\n",
    "  print(\"John is older than Luck\")\n",
    "\n",
    "elif yan_age == luck_age:\n",
    "  print(\" Yan's Age is same as Luck\")\n",
    "\n",
    "elif luck_age > john_age:\n",
    "  print(\"Luck is older than John\")\n",
    "\n",
    "else:\n",
    "  print(\"John's age is same as Yan\")"
   ]
  },
  {
   "cell_type": "code",
   "execution_count": 6,
   "id": "5489732f",
   "metadata": {},
   "outputs": [
    {
     "ename": "SyntaxError",
     "evalue": "invalid syntax (669833503.py, line 2)",
     "output_type": "error",
     "traceback": [
      "\u001b[0;36m  Cell \u001b[0;32mIn [6], line 2\u001b[0;36m\u001b[0m\n\u001b[0;31m    num = 45 'Even' if num % 2 == 0 else 'Odd'\u001b[0m\n\u001b[0m             ^\u001b[0m\n\u001b[0;31mSyntaxError\u001b[0m\u001b[0;31m:\u001b[0m invalid syntax\n"
     ]
    }
   ],
   "source": [
    "# Example 1: Return 'Even' if below num is 'Even' and `Odd` if not. \n",
    "num = 45 \n",
    "'Even' if num % 2 == 0 else 'Odd'"
   ]
  },
  {
   "cell_type": "code",
   "execution_count": 7,
   "id": "5e1c2b33",
   "metadata": {},
   "outputs": [
    {
     "data": {
      "text/plain": [
       "True"
      ]
     },
     "execution_count": 7,
     "metadata": {},
     "output_type": "execute_result"
    }
   ],
   "source": [
    "# Example 2: Return True if a given element is in a list and False if not\n",
    "\n",
    "nums = [1,2,3,4,5,6]\n",
    "\n",
    "True if 3 in nums else False"
   ]
  },
  {
   "cell_type": "code",
   "execution_count": 8,
   "id": "4e9e2d0e",
   "metadata": {},
   "outputs": [
    {
     "name": "stdout",
     "output_type": "stream",
     "text": [
      "2\n",
      "4\n",
      "6\n",
      "8\n",
      "10\n"
     ]
    }
   ],
   "source": [
    "#For Loop\n",
    "even_nums = [2,4,6,8,10]\n",
    "\n",
    "for num in even_nums:\n",
    "  print(num)"
   ]
  },
  {
   "cell_type": "code",
   "execution_count": 9,
   "id": "8717f065",
   "metadata": {},
   "outputs": [
    {
     "name": "stdout",
     "output_type": "stream",
     "text": [
      "Mon\n",
      "Tue\n",
      "Wed\n",
      "Thur\n",
      "Fri\n"
     ]
    }
   ],
   "source": [
    "week_days = ['Mon', 'Tue', 'Wed', 'Thur','Fri']\n",
    "\n",
    "for day in week_days:\n",
    "  print(day)"
   ]
  },
  {
   "cell_type": "code",
   "execution_count": 10,
   "id": "74dacb2f",
   "metadata": {},
   "outputs": [
    {
     "name": "stdout",
     "output_type": "stream",
     "text": [
      "I\n",
      "t\n",
      "'\n",
      "s\n",
      " \n",
      "b\n",
      "e\n",
      "e\n",
      "n\n",
      " \n",
      "a\n",
      " \n",
      "l\n",
      "o\n",
      "n\n",
      "g\n",
      " \n",
      "t\n",
      "i\n",
      "m\n",
      "e\n",
      " \n",
      "l\n",
      "e\n",
      "a\n",
      "r\n",
      "n\n",
      "i\n",
      "n\n",
      "g\n",
      " \n",
      "P\n",
      "y\n",
      "t\n",
      "h\n",
      "o\n",
      "n\n",
      ".\n",
      " \n",
      "I\n",
      " \n",
      "a\n",
      "m\n",
      " \n",
      "r\n",
      "e\n",
      "v\n",
      "i\n",
      "s\n",
      "i\n",
      "t\n",
      "i\n",
      "n\n",
      "g\n",
      " \n",
      "t\n",
      "h\n",
      "e\n",
      " \n",
      "b\n",
      "a\n",
      "s\n",
      "i\n",
      "c\n",
      "s\n",
      "!\n",
      "!\n"
     ]
    }
   ],
   "source": [
    "sentence = \"It's been a long time learning Python. I am revisiting the basics!!\"\n",
    "\n",
    "for letter in sentence:\n",
    "  print(letter)\n"
   ]
  },
  {
   "cell_type": "code",
   "execution_count": 11,
   "id": "fe91d3e3",
   "metadata": {},
   "outputs": [
    {
     "name": "stdout",
     "output_type": "stream",
     "text": [
      "It's\n",
      "been\n",
      "a\n",
      "long\n",
      "time\n",
      "learning\n",
      "Python.\n",
      "I\n",
      "am\n",
      "revisiting\n",
      "the\n",
      "basics!!\n"
     ]
    }
   ],
   "source": [
    "sentence = \"It's been a long time learning Python. I am revisiting the basics!!\"\n",
    "\n",
    "# split is a string method to split the words making the string\n",
    "\n",
    "for letter in sentence.split():\n",
    "  print(letter)"
   ]
  },
  {
   "cell_type": "code",
   "execution_count": 12,
   "id": "088fa838",
   "metadata": {},
   "outputs": [
    {
     "name": "stdout",
     "output_type": "stream",
     "text": [
      "United States\n",
      "India\n",
      "Germany\n",
      "China\n",
      "Rwanda\n"
     ]
    }
   ],
   "source": [
    "# For loop in dictionary \n",
    "\n",
    "countries_code = { \"United States\": 1,\n",
    "                 \"India\": 91,\n",
    "                 \"Germany\": 49,\n",
    "                 \"China\": 86,\n",
    "                 \"Rwanda\":250\n",
    "            }\n",
    "\n",
    "for country in countries_code:\n",
    "  print(country)\n"
   ]
  },
  {
   "cell_type": "code",
   "execution_count": 13,
   "id": "8f195367",
   "metadata": {},
   "outputs": [
    {
     "name": "stdout",
     "output_type": "stream",
     "text": [
      "1\n",
      "91\n",
      "49\n",
      "86\n",
      "250\n"
     ]
    }
   ],
   "source": [
    "for code in countries_code.values():\n",
    "  print(code)"
   ]
  },
  {
   "cell_type": "code",
   "execution_count": 14,
   "id": "5f5e29b0",
   "metadata": {},
   "outputs": [
    {
     "name": "stdout",
     "output_type": "stream",
     "text": [
      "0\n",
      "1\n",
      "2\n",
      "3\n",
      "4\n",
      "5\n",
      "6\n",
      "7\n",
      "8\n",
      "9\n"
     ]
    }
   ],
   "source": [
    "for number in range(10):\n",
    "  print(number)"
   ]
  },
  {
   "cell_type": "code",
   "execution_count": 15,
   "id": "7ef23d7d",
   "metadata": {},
   "outputs": [
    {
     "name": "stdout",
     "output_type": "stream",
     "text": [
      "10\n",
      "11\n",
      "12\n",
      "13\n",
      "14\n",
      "15\n",
      "16\n",
      "17\n",
      "18\n",
      "19\n"
     ]
    }
   ],
   "source": [
    "for number in range(10, 20):\n",
    "  print(number)"
   ]
  },
  {
   "cell_type": "code",
   "execution_count": 16,
   "id": "1fff24f9",
   "metadata": {},
   "outputs": [
    {
     "data": {
      "text/plain": [
       "['M', 'a', 'c', 'h', 'i', 'n', 'e', 'L', 'e', 'a', 'r', 'n', 'i', 'n', 'g']"
      ]
     },
     "execution_count": 16,
     "metadata": {},
     "output_type": "execute_result"
    }
   ],
   "source": [
    "letters = []\n",
    "\n",
    "for letter in 'MachineLearning':\n",
    "  letters.append(letter)\n",
    "\n",
    "letters"
   ]
  },
  {
   "cell_type": "code",
   "execution_count": 17,
   "id": "d60ccdf8",
   "metadata": {},
   "outputs": [
    {
     "data": {
      "text/plain": [
       "['M', 'a', 'c', 'h', 'i', 'n', 'e', 'L', 'e', 'a', 'r', 'n', 'i', 'n', 'g']"
      ]
     },
     "execution_count": 17,
     "metadata": {},
     "output_type": "execute_result"
    }
   ],
   "source": [
    "#The above code can be simplified to the following code\n",
    "letters = [letter for letter in 'MachineLearning']\n",
    "\n",
    "letters"
   ]
  },
  {
   "cell_type": "code",
   "execution_count": null,
   "id": "dec8ee54",
   "metadata": {},
   "outputs": [],
   "source": [
    "a = 10\n",
    "while a < 20:\n",
    "    print('a is: {}'.format(a))\n",
    "    a = a + 1"
   ]
  }
 ],
 "metadata": {
  "kernelspec": {
   "display_name": "Python 3 (ipykernel)",
   "language": "python",
   "name": "python3"
  },
  "language_info": {
   "codemirror_mode": {
    "name": "ipython",
    "version": 3
   },
   "file_extension": ".py",
   "mimetype": "text/x-python",
   "name": "python",
   "nbconvert_exporter": "python",
   "pygments_lexer": "ipython3",
   "version": "3.9.2"
  }
 },
 "nbformat": 4,
 "nbformat_minor": 5
}
