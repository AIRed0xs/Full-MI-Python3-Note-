{
 "cells": [
  {
   "cell_type": "code",
   "execution_count": null,
   "metadata": {},
   "outputs": [],
   "source": [
    "import urllib.request \n",
    "import pandas as pd\n",
    "\n",
    "train_data_path = 'https://raw.githubusercontent.com/nyandwi/public_datasets/master/mobile_price_train.csv'\n",
    "test_data_path = 'https://raw.githubusercontent.com/nyandwi/public_datasets/master/mobile_price_test.csv'\n",
    "\n",
    "\n",
    "def download_read_data(path):\n",
    "    \n",
    "\n",
    "    \"\"\"\n",
    "    Function to retrieve data from the data paths\n",
    "    And to read the data as a pandas dataframe\n",
    "  \n",
    "    To return the dataframe\n",
    "    \"\"\" \n",
    "    # Only retrieve the directory of the data\n",
    "\n",
    "    data_path =  urllib.request.urlretrieve(path)[0]\n",
    "    data = pd.read_csv(str(data_path))\n",
    "\n",
    "    return data"
   ]
  },
  {
   "cell_type": "code",
   "execution_count": null,
   "metadata": {},
   "outputs": [],
   "source": []
  }
 ],
 "metadata": {
  "kernelspec": {
   "display_name": "Python 3.9.2 64-bit",
   "language": "python",
   "name": "python3"
  },
  "language_info": {
   "name": "python",
   "version": "3.9.2"
  },
  "orig_nbformat": 4,
  "vscode": {
   "interpreter": {
    "hash": "916dbcbb3f70747c44a77c7bcd40155683ae19c65e1c03b4aa3499c5328201f1"
   }
  }
 },
 "nbformat": 4,
 "nbformat_minor": 2
}
